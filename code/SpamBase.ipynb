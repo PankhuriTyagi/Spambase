{
 "cells": [
  {
   "cell_type": "markdown",
   "id": "53e95d63",
   "metadata": {},
   "source": [
    "### The general task for this assignment is to build two different models for detecting spam messages (based on the email characteristics that are given): (i) the best possible model that you can build in terms of the overall predictive accuracy (i.e., not taking any cost information into account), and (ii) the best cost-sensitive classification model that you can build in terms of the average misclassification cost."
   ]
  },
  {
   "cell_type": "code",
   "execution_count": 2,
   "id": "5091d136",
   "metadata": {},
   "outputs": [],
   "source": [
    "#Import statements\n",
    "import pandas as pd\n",
    "%matplotlib inline\n",
    "# import necessary libraries and specify that graphs should be plotted inline.\n",
    "import matplotlib.pyplot as plt\n",
    "import scikitplot as skplt\n",
    "import pandas as pd\n",
    "import math\n",
    "import numpy as np\n",
    "\n",
    "import scikitplot as skplt\n",
    "from sklearn import tree, neighbors, linear_model, preprocessing\n",
    "from sklearn.linear_model import LogisticRegression, ElasticNet\n",
    "from sklearn.tree import DecisionTreeClassifier\n",
    "from sklearn.neighbors import KNeighborsClassifier\n",
    "from sklearn.svm import SVC\n",
    "from sklearn.ensemble import RandomForestClassifier, StackingClassifier\n",
    "from xgboost.sklearn import XGBClassifier\n",
    "\n",
    "from sklearn.model_selection import cross_val_score, train_test_split, GridSearchCV, KFold\n",
    "from sklearn.metrics import precision_score, recall_score, f1_score, accuracy_score, confusion_matrix, roc_auc_score, plot_roc_curve, precision_recall_fscore_support, mean_squared_error\n",
    "\n",
    "\n",
    "from sklearn.pipeline import Pipeline\n",
    "from sklearn.preprocessing import StandardScaler, OneHotEncoder\n",
    "\n",
    "import tensorflow as tf \n",
    "from tensorflow.keras import backend as K\n",
    "from tensorflow.keras.models import Sequential\n",
    "from tensorflow.keras.datasets import mnist\n",
    "from tensorflow.keras.layers import Dense, Activation, Dropout\n",
    "from tensorflow.keras.utils import to_categorical\n",
    "from keras.wrappers.scikit_learn import KerasClassifier\n",
    "\n",
    "from sklearn.metrics import recall_score, make_scorer\n",
    "\n",
    "import warnings\n",
    "warnings.filterwarnings(\"ignore\")"
   ]
  },
  {
   "cell_type": "markdown",
   "id": "cdb2df30",
   "metadata": {},
   "source": [
    "#### Import Dataset"
   ]
  },
  {
   "cell_type": "code",
   "execution_count": 3,
   "id": "1b725493",
   "metadata": {},
   "outputs": [
    {
     "data": {
      "text/html": [
       "<div>\n",
       "<style scoped>\n",
       "    .dataframe tbody tr th:only-of-type {\n",
       "        vertical-align: middle;\n",
       "    }\n",
       "\n",
       "    .dataframe tbody tr th {\n",
       "        vertical-align: top;\n",
       "    }\n",
       "\n",
       "    .dataframe thead th {\n",
       "        text-align: right;\n",
       "    }\n",
       "</style>\n",
       "<table border=\"1\" class=\"dataframe\">\n",
       "  <thead>\n",
       "    <tr style=\"text-align: right;\">\n",
       "      <th></th>\n",
       "      <th>0</th>\n",
       "      <th>1</th>\n",
       "      <th>2</th>\n",
       "      <th>3</th>\n",
       "      <th>4</th>\n",
       "      <th>5</th>\n",
       "      <th>6</th>\n",
       "      <th>7</th>\n",
       "      <th>8</th>\n",
       "      <th>9</th>\n",
       "      <th>...</th>\n",
       "      <th>48</th>\n",
       "      <th>49</th>\n",
       "      <th>50</th>\n",
       "      <th>51</th>\n",
       "      <th>52</th>\n",
       "      <th>53</th>\n",
       "      <th>54</th>\n",
       "      <th>55</th>\n",
       "      <th>56</th>\n",
       "      <th>57</th>\n",
       "    </tr>\n",
       "  </thead>\n",
       "  <tbody>\n",
       "    <tr>\n",
       "      <th>0</th>\n",
       "      <td>0.00</td>\n",
       "      <td>0.64</td>\n",
       "      <td>0.64</td>\n",
       "      <td>0.0</td>\n",
       "      <td>0.32</td>\n",
       "      <td>0.00</td>\n",
       "      <td>0.00</td>\n",
       "      <td>0.00</td>\n",
       "      <td>0.00</td>\n",
       "      <td>0.00</td>\n",
       "      <td>...</td>\n",
       "      <td>0.00</td>\n",
       "      <td>0.000</td>\n",
       "      <td>0.0</td>\n",
       "      <td>0.778</td>\n",
       "      <td>0.000</td>\n",
       "      <td>0.000</td>\n",
       "      <td>3.756</td>\n",
       "      <td>61</td>\n",
       "      <td>278</td>\n",
       "      <td>1</td>\n",
       "    </tr>\n",
       "    <tr>\n",
       "      <th>1</th>\n",
       "      <td>0.21</td>\n",
       "      <td>0.28</td>\n",
       "      <td>0.50</td>\n",
       "      <td>0.0</td>\n",
       "      <td>0.14</td>\n",
       "      <td>0.28</td>\n",
       "      <td>0.21</td>\n",
       "      <td>0.07</td>\n",
       "      <td>0.00</td>\n",
       "      <td>0.94</td>\n",
       "      <td>...</td>\n",
       "      <td>0.00</td>\n",
       "      <td>0.132</td>\n",
       "      <td>0.0</td>\n",
       "      <td>0.372</td>\n",
       "      <td>0.180</td>\n",
       "      <td>0.048</td>\n",
       "      <td>5.114</td>\n",
       "      <td>101</td>\n",
       "      <td>1028</td>\n",
       "      <td>1</td>\n",
       "    </tr>\n",
       "    <tr>\n",
       "      <th>2</th>\n",
       "      <td>0.06</td>\n",
       "      <td>0.00</td>\n",
       "      <td>0.71</td>\n",
       "      <td>0.0</td>\n",
       "      <td>1.23</td>\n",
       "      <td>0.19</td>\n",
       "      <td>0.19</td>\n",
       "      <td>0.12</td>\n",
       "      <td>0.64</td>\n",
       "      <td>0.25</td>\n",
       "      <td>...</td>\n",
       "      <td>0.01</td>\n",
       "      <td>0.143</td>\n",
       "      <td>0.0</td>\n",
       "      <td>0.276</td>\n",
       "      <td>0.184</td>\n",
       "      <td>0.010</td>\n",
       "      <td>9.821</td>\n",
       "      <td>485</td>\n",
       "      <td>2259</td>\n",
       "      <td>1</td>\n",
       "    </tr>\n",
       "    <tr>\n",
       "      <th>3</th>\n",
       "      <td>0.00</td>\n",
       "      <td>0.00</td>\n",
       "      <td>0.00</td>\n",
       "      <td>0.0</td>\n",
       "      <td>0.63</td>\n",
       "      <td>0.00</td>\n",
       "      <td>0.31</td>\n",
       "      <td>0.63</td>\n",
       "      <td>0.31</td>\n",
       "      <td>0.63</td>\n",
       "      <td>...</td>\n",
       "      <td>0.00</td>\n",
       "      <td>0.137</td>\n",
       "      <td>0.0</td>\n",
       "      <td>0.137</td>\n",
       "      <td>0.000</td>\n",
       "      <td>0.000</td>\n",
       "      <td>3.537</td>\n",
       "      <td>40</td>\n",
       "      <td>191</td>\n",
       "      <td>1</td>\n",
       "    </tr>\n",
       "    <tr>\n",
       "      <th>4</th>\n",
       "      <td>0.00</td>\n",
       "      <td>0.00</td>\n",
       "      <td>0.00</td>\n",
       "      <td>0.0</td>\n",
       "      <td>0.63</td>\n",
       "      <td>0.00</td>\n",
       "      <td>0.31</td>\n",
       "      <td>0.63</td>\n",
       "      <td>0.31</td>\n",
       "      <td>0.63</td>\n",
       "      <td>...</td>\n",
       "      <td>0.00</td>\n",
       "      <td>0.135</td>\n",
       "      <td>0.0</td>\n",
       "      <td>0.135</td>\n",
       "      <td>0.000</td>\n",
       "      <td>0.000</td>\n",
       "      <td>3.537</td>\n",
       "      <td>40</td>\n",
       "      <td>191</td>\n",
       "      <td>1</td>\n",
       "    </tr>\n",
       "    <tr>\n",
       "      <th>5</th>\n",
       "      <td>0.00</td>\n",
       "      <td>0.00</td>\n",
       "      <td>0.00</td>\n",
       "      <td>0.0</td>\n",
       "      <td>1.85</td>\n",
       "      <td>0.00</td>\n",
       "      <td>0.00</td>\n",
       "      <td>1.85</td>\n",
       "      <td>0.00</td>\n",
       "      <td>0.00</td>\n",
       "      <td>...</td>\n",
       "      <td>0.00</td>\n",
       "      <td>0.223</td>\n",
       "      <td>0.0</td>\n",
       "      <td>0.000</td>\n",
       "      <td>0.000</td>\n",
       "      <td>0.000</td>\n",
       "      <td>3.000</td>\n",
       "      <td>15</td>\n",
       "      <td>54</td>\n",
       "      <td>1</td>\n",
       "    </tr>\n",
       "    <tr>\n",
       "      <th>6</th>\n",
       "      <td>0.00</td>\n",
       "      <td>0.00</td>\n",
       "      <td>0.00</td>\n",
       "      <td>0.0</td>\n",
       "      <td>1.92</td>\n",
       "      <td>0.00</td>\n",
       "      <td>0.00</td>\n",
       "      <td>0.00</td>\n",
       "      <td>0.00</td>\n",
       "      <td>0.64</td>\n",
       "      <td>...</td>\n",
       "      <td>0.00</td>\n",
       "      <td>0.054</td>\n",
       "      <td>0.0</td>\n",
       "      <td>0.164</td>\n",
       "      <td>0.054</td>\n",
       "      <td>0.000</td>\n",
       "      <td>1.671</td>\n",
       "      <td>4</td>\n",
       "      <td>112</td>\n",
       "      <td>1</td>\n",
       "    </tr>\n",
       "    <tr>\n",
       "      <th>7</th>\n",
       "      <td>0.00</td>\n",
       "      <td>0.00</td>\n",
       "      <td>0.00</td>\n",
       "      <td>0.0</td>\n",
       "      <td>1.88</td>\n",
       "      <td>0.00</td>\n",
       "      <td>0.00</td>\n",
       "      <td>1.88</td>\n",
       "      <td>0.00</td>\n",
       "      <td>0.00</td>\n",
       "      <td>...</td>\n",
       "      <td>0.00</td>\n",
       "      <td>0.206</td>\n",
       "      <td>0.0</td>\n",
       "      <td>0.000</td>\n",
       "      <td>0.000</td>\n",
       "      <td>0.000</td>\n",
       "      <td>2.450</td>\n",
       "      <td>11</td>\n",
       "      <td>49</td>\n",
       "      <td>1</td>\n",
       "    </tr>\n",
       "    <tr>\n",
       "      <th>8</th>\n",
       "      <td>0.15</td>\n",
       "      <td>0.00</td>\n",
       "      <td>0.46</td>\n",
       "      <td>0.0</td>\n",
       "      <td>0.61</td>\n",
       "      <td>0.00</td>\n",
       "      <td>0.30</td>\n",
       "      <td>0.00</td>\n",
       "      <td>0.92</td>\n",
       "      <td>0.76</td>\n",
       "      <td>...</td>\n",
       "      <td>0.00</td>\n",
       "      <td>0.271</td>\n",
       "      <td>0.0</td>\n",
       "      <td>0.181</td>\n",
       "      <td>0.203</td>\n",
       "      <td>0.022</td>\n",
       "      <td>9.744</td>\n",
       "      <td>445</td>\n",
       "      <td>1257</td>\n",
       "      <td>1</td>\n",
       "    </tr>\n",
       "    <tr>\n",
       "      <th>9</th>\n",
       "      <td>0.06</td>\n",
       "      <td>0.12</td>\n",
       "      <td>0.77</td>\n",
       "      <td>0.0</td>\n",
       "      <td>0.19</td>\n",
       "      <td>0.32</td>\n",
       "      <td>0.38</td>\n",
       "      <td>0.00</td>\n",
       "      <td>0.06</td>\n",
       "      <td>0.00</td>\n",
       "      <td>...</td>\n",
       "      <td>0.04</td>\n",
       "      <td>0.030</td>\n",
       "      <td>0.0</td>\n",
       "      <td>0.244</td>\n",
       "      <td>0.081</td>\n",
       "      <td>0.000</td>\n",
       "      <td>1.729</td>\n",
       "      <td>43</td>\n",
       "      <td>749</td>\n",
       "      <td>1</td>\n",
       "    </tr>\n",
       "  </tbody>\n",
       "</table>\n",
       "<p>10 rows × 58 columns</p>\n",
       "</div>"
      ],
      "text/plain": [
       "     0     1     2    3     4     5     6     7     8     9   ...    48  \\\n",
       "0  0.00  0.64  0.64  0.0  0.32  0.00  0.00  0.00  0.00  0.00  ...  0.00   \n",
       "1  0.21  0.28  0.50  0.0  0.14  0.28  0.21  0.07  0.00  0.94  ...  0.00   \n",
       "2  0.06  0.00  0.71  0.0  1.23  0.19  0.19  0.12  0.64  0.25  ...  0.01   \n",
       "3  0.00  0.00  0.00  0.0  0.63  0.00  0.31  0.63  0.31  0.63  ...  0.00   \n",
       "4  0.00  0.00  0.00  0.0  0.63  0.00  0.31  0.63  0.31  0.63  ...  0.00   \n",
       "5  0.00  0.00  0.00  0.0  1.85  0.00  0.00  1.85  0.00  0.00  ...  0.00   \n",
       "6  0.00  0.00  0.00  0.0  1.92  0.00  0.00  0.00  0.00  0.64  ...  0.00   \n",
       "7  0.00  0.00  0.00  0.0  1.88  0.00  0.00  1.88  0.00  0.00  ...  0.00   \n",
       "8  0.15  0.00  0.46  0.0  0.61  0.00  0.30  0.00  0.92  0.76  ...  0.00   \n",
       "9  0.06  0.12  0.77  0.0  0.19  0.32  0.38  0.00  0.06  0.00  ...  0.04   \n",
       "\n",
       "      49   50     51     52     53     54   55    56  57  \n",
       "0  0.000  0.0  0.778  0.000  0.000  3.756   61   278   1  \n",
       "1  0.132  0.0  0.372  0.180  0.048  5.114  101  1028   1  \n",
       "2  0.143  0.0  0.276  0.184  0.010  9.821  485  2259   1  \n",
       "3  0.137  0.0  0.137  0.000  0.000  3.537   40   191   1  \n",
       "4  0.135  0.0  0.135  0.000  0.000  3.537   40   191   1  \n",
       "5  0.223  0.0  0.000  0.000  0.000  3.000   15    54   1  \n",
       "6  0.054  0.0  0.164  0.054  0.000  1.671    4   112   1  \n",
       "7  0.206  0.0  0.000  0.000  0.000  2.450   11    49   1  \n",
       "8  0.271  0.0  0.181  0.203  0.022  9.744  445  1257   1  \n",
       "9  0.030  0.0  0.244  0.081  0.000  1.729   43   749   1  \n",
       "\n",
       "[10 rows x 58 columns]"
      ]
     },
     "execution_count": 3,
     "metadata": {},
     "output_type": "execute_result"
    }
   ],
   "source": [
    "df = pd.read_csv('spambase.data', header = None)\n",
    "df.head(10)"
   ]
  },
  {
   "cell_type": "markdown",
   "id": "9809ae09",
   "metadata": {},
   "source": [
    "#### Identifying class label column"
   ]
  },
  {
   "cell_type": "code",
   "execution_count": 3,
   "id": "fb34b30c",
   "metadata": {},
   "outputs": [
    {
     "data": {
      "text/plain": [
       "array([1, 0], dtype=int64)"
      ]
     },
     "execution_count": 3,
     "metadata": {},
     "output_type": "execute_result"
    }
   ],
   "source": [
    "df.nunique()\n",
    "df[57].unique()\n",
    "# The last column is our label since it is the only column with unique 0/1 values."
   ]
  },
  {
   "cell_type": "markdown",
   "id": "43022d82",
   "metadata": {},
   "source": [
    "#### Train test split"
   ]
  },
  {
   "cell_type": "code",
   "execution_count": 4,
   "id": "b9c43fcb",
   "metadata": {},
   "outputs": [],
   "source": [
    "X = df.drop([57], axis=1)\n",
    "y = df[57]\n",
    "\n",
    "X_train, X_test, y_train, y_test = train_test_split(X, y, test_size=0.2, random_state=42)\n"
   ]
  },
  {
   "cell_type": "markdown",
   "id": "a19af832",
   "metadata": {},
   "source": [
    "### Part A"
   ]
  },
  {
   "cell_type": "markdown",
   "id": "2a8d4cdc",
   "metadata": {},
   "source": [
    "#### Initializing models, defining parameters for models and building pipelines"
   ]
  },
  {
   "cell_type": "code",
   "execution_count": 13,
   "id": "747c7a07",
   "metadata": {},
   "outputs": [],
   "source": [
    "# Grid search\n",
    "inner_cv = KFold(n_splits=4, shuffle= True, random_state = 30)\n",
    "outer_cv = KFold(n_splits=4, shuffle = True, random_state = 30)\n",
    "scoring = 'balanced_accuracy'\n",
    "\n",
    "#Initializing models\n",
    "knn = KNeighborsClassifier()\n",
    "dt = DecisionTreeClassifier()\n",
    "lr = LogisticRegression()\n",
    "svm = SVC(max_iter = 100, probability = True)\n",
    "\n",
    "\n",
    "el = ElasticNet(random_state=0)\n",
    "rf = RandomForestClassifier(random_state=0)\n",
    "xgb = XGBClassifier(verbose_eval=False)\n",
    "\n",
    "# Pipelines\n",
    "lr_pl = Pipeline([('sc', StandardScaler()), ('lr', lr)])\n",
    "knn_pl = Pipeline([('sc', StandardScaler()), ('knn', knn)])\n",
    "svm_pl = Pipeline([('sc', StandardScaler()), ('svm', svm)])\n",
    "\n",
    "# Defining model parameters\n",
    "el_a = [.1, .5, .7, .9, .95, .99, 1]\n",
    "knn_grid = {'knn__n_neighbors':[1,2,3,4,5,6,7,8,9,10]}\n",
    "knn_grid_1 = {'n_neighbors':[1,2,3,4,5,6,7,8,9,10]}\n",
    "dt_grid = {'max_depth': [1,2,3,4,5,6,7,8,9,10], 'min_samples_leaf': [1,2,3,4,5,6,7,8,9,10]}\n",
    "\n",
    "c_val = np.logspace(-5, 5, 11)\n",
    "lr_grid = {'lr__C': c_val}\n",
    "lr_grid_1 = {'C': c_val}\n",
    "svm_grid = {\"svm__C\": c_val, \"svm__gamma\": c_val}\n",
    "\n",
    "rf_grid = {'max_depth': [1,2,3,4,5,6,7,8,9,10], 'min_samples_leaf': [1,2,3,4,5,6,7,8,9,10]}\n",
    "xgb_grid = {'n_estimators': [100,200,300,400,500],'max_depth': [1,2,3,4,5,6,7,8,9,10], \n",
    "           'min_samples_leaf': [1,2,3,4,5,6,7,8,9,10]}\n",
    "\n",
    "##################### NEURAL NETWORK ###########\n",
    "num_classes = 2 # class size\n",
    "input_unit_size = 57 # input vector size\n",
    "\n",
    "# Model Structure definiton\n",
    "def build_model():\n",
    "    model = Sequential()\n",
    "    model.add(Dense(50, input_dim=input_unit_size, activation='relu'))\n",
    "    model.add(Dense(20, input_dim=input_unit_size, activation='relu'))\n",
    "    model.add(Dense(num_classes, activation='sigmoid'))\n",
    "    model.compile(optimizer='adam', loss='categorical_crossentropy')\n",
    "    return model\n",
    "\n",
    "batch_size = [5, 10, 20, 25, 30]\n",
    "epoch = [5, 10]\n",
    "nn_grid = dict(epochs=epoch, batch_size=batch_size)"
   ]
  },
  {
   "cell_type": "markdown",
   "id": "4e6dabce",
   "metadata": {},
   "source": [
    "#### k-NN (without normalization)"
   ]
  },
  {
   "cell_type": "code",
   "execution_count": 12,
   "id": "6fc78e3c",
   "metadata": {},
   "outputs": [
    {
     "name": "stdout",
     "output_type": "stream",
     "text": [
      "KNN (without Normalization) Accuracy:  0.7888623846395293\n"
     ]
    }
   ],
   "source": [
    "knn_clf = GridSearchCV(estimator = knn, scoring = scoring, param_grid = knn_grid_1,  cv = inner_cv)\n",
    "knn_score = cross_val_score(knn_clf, X=X_train, y=y_train, cv = outer_cv)\n",
    "knn_score_mean = knn_score.mean()\n",
    "print('KNN (without Normalization) Accuracy: ', knn_score_mean)"
   ]
  },
  {
   "cell_type": "markdown",
   "id": "f65c2bc9",
   "metadata": {},
   "source": [
    "#### k-NN"
   ]
  },
  {
   "cell_type": "code",
   "execution_count": 7,
   "id": "af5a727e",
   "metadata": {},
   "outputs": [
    {
     "name": "stdout",
     "output_type": "stream",
     "text": [
      "KNN Accuracy:  0.8870852337004282\n"
     ]
    }
   ],
   "source": [
    "knn_clf = GridSearchCV(estimator = knn_pl, scoring = scoring, param_grid = knn_grid,  cv = inner_cv)\n",
    "knn_score = cross_val_score(knn_clf, X=X_train, y=y_train, cv = outer_cv)\n",
    "knn_score_mean = knn_score.mean()\n",
    "print('KNN Accuracy: ', knn_score_mean)"
   ]
  },
  {
   "cell_type": "markdown",
   "id": "3491b759",
   "metadata": {},
   "source": [
    "#### Decision Tree"
   ]
  },
  {
   "cell_type": "code",
   "execution_count": 8,
   "id": "213b6ae0",
   "metadata": {},
   "outputs": [
    {
     "name": "stdout",
     "output_type": "stream",
     "text": [
      "Decision Tree Accuracy:  0.9038410838646154\n"
     ]
    }
   ],
   "source": [
    "dt_clf = GridSearchCV(estimator = dt, scoring = scoring, param_grid = dt_grid, cv = inner_cv)\n",
    "dt_score = cross_val_score(dt_clf, X=X_train, y=y_train, cv = outer_cv)\n",
    "dt_score_mean = dt_score.mean()\n",
    "print('Decision Tree Accuracy: ', dt_score_mean)\n"
   ]
  },
  {
   "cell_type": "markdown",
   "id": "0715126e",
   "metadata": {},
   "source": [
    "#### Logistic Regression (without Normalization)"
   ]
  },
  {
   "cell_type": "code",
   "execution_count": 15,
   "id": "8a7f5da3",
   "metadata": {},
   "outputs": [
    {
     "name": "stdout",
     "output_type": "stream",
     "text": [
      "Logistic (without Normalization) Regression Accuracy:  0.908354359879099\n"
     ]
    }
   ],
   "source": [
    "lr_clf = GridSearchCV(estimator = lr, param_grid = lr_grid_1, scoring = scoring, cv = inner_cv)\n",
    "lr_score = cross_val_score(lr_clf, X=X_train, y=y_train, cv = outer_cv)\n",
    "lr_score_mean = lr_score.mean()\n",
    "print('Logistic (without Normalization) Regression Accuracy: ', lr_score_mean)\n"
   ]
  },
  {
   "cell_type": "markdown",
   "id": "98a8dfb2",
   "metadata": {},
   "source": [
    "#### Logistic Regression"
   ]
  },
  {
   "cell_type": "code",
   "execution_count": 10,
   "id": "41346297",
   "metadata": {},
   "outputs": [
    {
     "name": "stdout",
     "output_type": "stream",
     "text": [
      "Logistic Regression Accuracy:  0.9155354211739641\n"
     ]
    }
   ],
   "source": [
    "lr_clf = GridSearchCV(estimator = lr_pl, param_grid = lr_grid, scoring = scoring, cv = inner_cv)\n",
    "lr_score = cross_val_score(lr_clf, X=X_train, y=y_train, cv = outer_cv)\n",
    "lr_score_mean = lr_score.mean()\n",
    "print('Logistic Regression Accuracy: ', lr_score_mean)\n"
   ]
  },
  {
   "cell_type": "markdown",
   "id": "cccda96e",
   "metadata": {},
   "source": [
    "#### Support Vector Machine"
   ]
  },
  {
   "cell_type": "code",
   "execution_count": 11,
   "id": "605e0860",
   "metadata": {},
   "outputs": [
    {
     "name": "stdout",
     "output_type": "stream",
     "text": [
      "SVM Accuracy:  0.753407806594439\n"
     ]
    }
   ],
   "source": [
    "svm_clf = GridSearchCV(estimator = svm_pl, param_grid = svm_grid, scoring = scoring, cv = inner_cv)\n",
    "svm_score = cross_val_score(svm_clf, X=X_train, y=y_train, cv = outer_cv)\n",
    "svm_score_mean = svm_score.mean()\n",
    "print('SVM Accuracy: ', svm_score_mean)"
   ]
  },
  {
   "cell_type": "markdown",
   "id": "9e742234",
   "metadata": {},
   "source": [
    "#### Random Forest"
   ]
  },
  {
   "cell_type": "code",
   "execution_count": 12,
   "id": "554fd4de",
   "metadata": {},
   "outputs": [
    {
     "name": "stdout",
     "output_type": "stream",
     "text": [
      "0.9322887857822949\n"
     ]
    }
   ],
   "source": [
    "rf_clf = GridSearchCV(estimator = rf, scoring = scoring, param_grid = rf_grid, cv = inner_cv)\n",
    "rf_score = cross_val_score(rf_clf, X=X_train, y=y_train, cv = outer_cv)\n",
    "rf_score_mean = rf_score.mean()\n",
    "print(rf_score_mean)"
   ]
  },
  {
   "cell_type": "markdown",
   "id": "de40fc83",
   "metadata": {},
   "source": [
    "#### Neural Networks"
   ]
  },
  {
   "cell_type": "code",
   "execution_count": 13,
   "id": "f2c90af2",
   "metadata": {},
   "outputs": [
    {
     "data": {
      "text/plain": [
       "57"
      ]
     },
     "execution_count": 13,
     "metadata": {},
     "output_type": "execute_result"
    }
   ],
   "source": [
    "len(X.columns)\n",
    "# Since we have 57 columns, the input vector size is 57."
   ]
  },
  {
   "cell_type": "code",
   "execution_count": 9,
   "id": "659d1467",
   "metadata": {},
   "outputs": [
    {
     "name": "stdout",
     "output_type": "stream",
     "text": [
      "0.8723192136227526\n"
     ]
    }
   ],
   "source": [
    "model1 = KerasClassifier(build_fn = build_model, verbose=0)\n",
    "\n",
    "nn = GridSearchCV(estimator = model1, param_grid = nn_grid, cv=inner_cv, scoring = scoring)\n",
    "nn_score = cross_val_score(nn, X=X_train, y=y_train, cv=outer_cv, scoring = scoring)\n",
    "nn_score_mean = nn_score.mean()\n",
    "print(nn_score_mean)\n"
   ]
  },
  {
   "cell_type": "markdown",
   "id": "d46982f7",
   "metadata": {},
   "source": [
    "### Comparing the accuracy scores for the models we have run, we choose Random Forest as our final model as it has the best accuracy. "
   ]
  },
  {
   "cell_type": "code",
   "execution_count": 37,
   "id": "5ec27853",
   "metadata": {},
   "outputs": [
    {
     "name": "stdout",
     "output_type": "stream",
     "text": [
      "{'max_depth': 10, 'min_samples_leaf': 1}\n",
      "0.9381107491856677\n"
     ]
    }
   ],
   "source": [
    "rf_fin = RandomForestClassifier(random_state=0)\n",
    "rf_f = GridSearchCV(estimator = rf_fin, scoring = scoring, param_grid = rf_grid, cv = inner_cv)\n",
    "y_pred = rf_f.fit(X=X_train, y=y_train).predict(X_test)\n",
    "\n",
    "print(rf_f.best_params_)\n",
    "print(accuracy_score(y_pred, y_test))\n"
   ]
  },
  {
   "cell_type": "code",
   "execution_count": 40,
   "id": "fc22a590",
   "metadata": {},
   "outputs": [
    {
     "name": "stdout",
     "output_type": "stream",
     "text": [
      "0.9381107491856677\n",
      "Recall for class 1 0.8871794871794871\n",
      "Recall for class 0 0.975517890772128\n",
      "Precision for class 1 0.9637883008356546\n",
      "Precision for class 0 0.9217081850533808\n",
      "F1 Score for class 1 0.9238985313751668\n",
      "F1 Score for class 0 0.9478499542543458\n"
     ]
    }
   ],
   "source": [
    "print(accuracy_score(y_pred, y_test))\n",
    "print('Recall for class 1', recall_score(y_test, y_pred))\n",
    "print('Recall for class 0',recall_score(y_test, y_pred, pos_label = 0))\n",
    "print('Precision for class 1',precision_score(y_test, y_pred))\n",
    "print('Precision for class 0', precision_score(y_test, y_pred, pos_label = 0))\n",
    "print('F1 Score for class 1', f1_score(y_test, y_pred))\n",
    "print('F1 Score for class 0', f1_score(y_test, y_pred, pos_label = 0))"
   ]
  },
  {
   "cell_type": "code",
   "execution_count": 17,
   "id": "45dadeb6",
   "metadata": {},
   "outputs": [
    {
     "data": {
      "image/png": "[encoded data removed]",
      "text/plain": [
       "<Figure size 432x288 with 1 Axes>"
      ]
     },
     "metadata": {
      "needs_background": "light"
     },
     "output_type": "display_data"
    }
   ],
   "source": [
    "plot_roc_curve(rf_f, X_test, y_test) \n",
    "plt.title('ROC Curve')\n",
    "plt.show()"
   ]
  },
  {
   "cell_type": "code",
   "execution_count": 18,
   "id": "90009154",
   "metadata": {},
   "outputs": [
    {
     "data": {
      "text/plain": [
       "<AxesSubplot:title={'center':'Lift Curve'}, xlabel='Percentage of sample', ylabel='Lift'>"
      ]
     },
     "execution_count": 18,
     "metadata": {},
     "output_type": "execute_result"
    },
    {
     "data": {
      "image/png": "[encoded data removed]",
      "text/plain": [
       "<Figure size 432x288 with 1 Axes>"
      ]
     },
     "metadata": {
      "needs_background": "light"
     },
     "output_type": "display_data"
    }
   ],
   "source": [
    "y_probas = rf_f.predict_proba(X_test)\n",
    "skplt.metrics.plot_lift_curve(y_test, y_probas)\n"
   ]
  },
  {
   "cell_type": "markdown",
   "id": "f8608a8d",
   "metadata": {},
   "source": [
    "### Part B"
   ]
  },
  {
   "cell_type": "markdown",
   "id": "264e659b",
   "metadata": {},
   "source": [
    "#### Initializing models with class weights 10:1, building pipelines. "
   ]
  },
  {
   "cell_type": "code",
   "execution_count": 35,
   "id": "5354ba8a",
   "metadata": {},
   "outputs": [],
   "source": [
    "#custom_scorer = make_scorer(recall_score, greater_is_better=True,  pos_label=0)\n",
    "\n",
    "scoring = 'balanced_accuracy'\n",
    "\n",
    "#Initializing models\n",
    "\n",
    "dt = DecisionTreeClassifier(class_weight  = {0:10, 1:1})\n",
    "lr = LogisticRegression(class_weight  = {0:10, 1:1})\n",
    "svm = SVC(max_iter = 100, probability = True, class_weight  = {0:10, 1:1})\n",
    "\n",
    "rf = RandomForestClassifier(random_state=0, class_weight  = {0:10, 1:1})\n",
    "\n",
    "model1 = KerasClassifier(build_fn = build_model, verbose=0, class_weight  = {0:10, 1:1})\n",
    "\n",
    "# Pipelines\n",
    "lr_pl = Pipeline([('sc', StandardScaler()), ('lr', lr)])\n",
    "svm_pl = Pipeline([('sc', StandardScaler()), ('svm', svm)])\n",
    "nn_pl = Pipeline([('sc', StandardScaler()), ('model1', svm)])"
   ]
  },
  {
   "cell_type": "markdown",
   "id": "a65083ef",
   "metadata": {},
   "source": [
    "#### k-NN"
   ]
  },
  {
   "cell_type": "code",
   "execution_count": 23,
   "id": "af344bba",
   "metadata": {},
   "outputs": [
    {
     "name": "stdout",
     "output_type": "stream",
     "text": [
      "KNN Accuracy:  0.8870852337004282\n"
     ]
    }
   ],
   "source": [
    "knn_clf = GridSearchCV(estimator = knn_pl, scoring = scoring, param_grid = knn_grid,  cv = inner_cv)\n",
    "knn_score = cross_val_score(knn_clf, X=X_train, y=y_train, cv = outer_cv)\n",
    "knn_score_mean = knn_score.mean()\n",
    "print('KNN Accuracy: ', knn_score_mean)"
   ]
  },
  {
   "cell_type": "markdown",
   "id": "8793c875",
   "metadata": {},
   "source": [
    "#### Decision tree"
   ]
  },
  {
   "cell_type": "code",
   "execution_count": 24,
   "id": "053fec5f",
   "metadata": {},
   "outputs": [
    {
     "name": "stdout",
     "output_type": "stream",
     "text": [
      "Decision Tree Accuracy:  0.8742758414702734\n"
     ]
    }
   ],
   "source": [
    "dt_clf = GridSearchCV(estimator = dt, scoring = scoring, param_grid = dt_grid, cv = inner_cv)\n",
    "dt_score = cross_val_score(dt_clf, X=X_train, y=y_train, cv = outer_cv)\n",
    "dt_score_mean = dt_score.mean()\n",
    "print('Decision Tree Accuracy: ', dt_score_mean)"
   ]
  },
  {
   "cell_type": "markdown",
   "id": "0bf6054b",
   "metadata": {},
   "source": [
    "#### Logistic Regression"
   ]
  },
  {
   "cell_type": "code",
   "execution_count": 25,
   "id": "019cfc9d",
   "metadata": {},
   "outputs": [
    {
     "name": "stdout",
     "output_type": "stream",
     "text": [
      "Logistic Regression Accuracy:  0.8023669280488241\n"
     ]
    }
   ],
   "source": [
    "lr_clf = GridSearchCV(estimator = lr_pl, param_grid = lr_grid, scoring = scoring, cv = inner_cv)\n",
    "lr_score = cross_val_score(lr_clf, X=X_train, y=y_train, cv = outer_cv)\n",
    "lr_score_mean = lr_score.mean()\n",
    "print('Logistic Regression Accuracy: ', lr_score_mean)"
   ]
  },
  {
   "cell_type": "markdown",
   "id": "1fa58585",
   "metadata": {},
   "source": [
    "#### Support Vector Machine"
   ]
  },
  {
   "cell_type": "code",
   "execution_count": 26,
   "id": "d97d0590",
   "metadata": {},
   "outputs": [
    {
     "name": "stdout",
     "output_type": "stream",
     "text": [
      "SVM Accuracy:  0.6333387087562352\n"
     ]
    }
   ],
   "source": [
    "svm_clf = GridSearchCV(estimator = svm_pl, param_grid = svm_grid, scoring = scoring, cv = inner_cv)\n",
    "svm_score = cross_val_score(svm_clf, X=X_train, y=y_train, cv = outer_cv)\n",
    "svm_score_mean = svm_score.mean()\n",
    "print('SVM Accuracy: ', svm_score_mean)"
   ]
  },
  {
   "cell_type": "markdown",
   "id": "ff9e78f4",
   "metadata": {},
   "source": [
    "#### Random Forest"
   ]
  },
  {
   "cell_type": "code",
   "execution_count": 27,
   "id": "9429e380",
   "metadata": {},
   "outputs": [
    {
     "name": "stdout",
     "output_type": "stream",
     "text": [
      "Random Forest Accuracy:  0.8896429025853901\n"
     ]
    }
   ],
   "source": [
    "rf_clf = GridSearchCV(estimator = rf, scoring = scoring, param_grid = rf_grid, cv = inner_cv)\n",
    "rf_score = cross_val_score(rf_clf, X=X_train, y=y_train, cv = outer_cv)\n",
    "rf_score_mean = rf_score.mean()\n",
    "print('Random Forest Accuracy: ', rf_score_mean)"
   ]
  },
  {
   "cell_type": "markdown",
   "id": "95787c35",
   "metadata": {},
   "source": [
    "#### Neural Network"
   ]
  },
  {
   "cell_type": "code",
   "execution_count": 28,
   "id": "293ab6fc",
   "metadata": {},
   "outputs": [
    {
     "name": "stdout",
     "output_type": "stream",
     "text": [
      "Neural Network Accuracy:  0.8398342911440314\n"
     ]
    }
   ],
   "source": [
    "model1 = KerasClassifier(build_fn = build_model, verbose=0)\n",
    "\n",
    "nn = GridSearchCV(estimator = model1, param_grid = nn_grid, cv=inner_cv, scoring = scoring)\n",
    "nn_score = cross_val_score(nn, X=X_train, y=y_train, cv=outer_cv, scoring = scoring)\n",
    "nn_score_mean = nn_score.mean()\n",
    "print('Neural Network Accuracy: ', nn_score_mean)\n"
   ]
  },
  {
   "cell_type": "markdown",
   "id": "20031ff5",
   "metadata": {},
   "source": [
    "#### Comparing the accuracy scores for the models run, Random Forest gives the best accuracy score. Thus, we choose it as our final model."
   ]
  },
  {
   "cell_type": "code",
   "execution_count": 36,
   "id": "fcb0779b",
   "metadata": {},
   "outputs": [
    {
     "name": "stdout",
     "output_type": "stream",
     "text": [
      "{'max_depth': 10, 'min_samples_leaf': 1}\n",
      "0.8859934853420195\n"
     ]
    }
   ],
   "source": [
    "rf_cw = RandomForestClassifier(random_state=0, class_weight  = {0:10, 1:1})\n",
    "\n",
    "rf_f1 = GridSearchCV(estimator = rf_cw, scoring = scoring, param_grid = rf_grid, cv = inner_cv)\n",
    "y_pred1 = rf_f1.fit(X=X_train, y=y_train).predict(X_test)\n",
    "\n",
    "print(rf_f1.best_params_)\n",
    "print(accuracy_score(y_pred1, y_test))\n"
   ]
  },
  {
   "cell_type": "code",
   "execution_count": 41,
   "id": "62c273bf",
   "metadata": {},
   "outputs": [
    {
     "name": "stdout",
     "output_type": "stream",
     "text": [
      "Recall for class 1 0.7487179487179487\n",
      "Recall for class 0 0.9868173258003766\n",
      "Precision for class 1 0.9765886287625418\n",
      "Precision for class 0 0.842443729903537\n",
      "F1 Score for class 1 0.8476052249637155\n",
      "F1 Score for class 0 0.9089332176929747\n"
     ]
    }
   ],
   "source": [
    "print('Recall for class 1', recall_score(y_test, y_pred1))\n",
    "print('Recall for class 0',recall_score(y_test, y_pred1, pos_label = 0))\n",
    "print('Precision for class 1',precision_score(y_test, y_pred1))\n",
    "print('Precision for class 0', precision_score(y_test, y_pred1, pos_label = 0))\n",
    "print('F1 Score for class 1', f1_score(y_test, y_pred1))\n",
    "print('F1 Score for class 0', f1_score(y_test, y_pred1, pos_label = 0))"
   ]
  },
  {
   "cell_type": "code",
   "execution_count": 31,
   "id": "d1e59b48",
   "metadata": {},
   "outputs": [
    {
     "data": {
      "image/png": "[encoded data removed]",
      "text/plain": [
       "<Figure size 432x288 with 1 Axes>"
      ]
     },
     "metadata": {
      "needs_background": "light"
     },
     "output_type": "display_data"
    }
   ],
   "source": [
    "plot_roc_curve(rf_f, X_test, y_test) \n",
    "plt.title('ROC Curve')\n",
    "plt.show()"
   ]
  },
  {
   "cell_type": "code",
   "execution_count": 32,
   "id": "f44ab7eb",
   "metadata": {},
   "outputs": [
    {
     "data": {
      "text/plain": [
       "<AxesSubplot:title={'center':'Lift Curve'}, xlabel='Percentage of sample', ylabel='Lift'>"
      ]
     },
     "execution_count": 32,
     "metadata": {},
     "output_type": "execute_result"
    },
    {
     "data": {
      "image/png": "[encoded data removed]",
      "text/plain": [
       "<Figure size 432x288 with 1 Axes>"
      ]
     },
     "metadata": {
      "needs_background": "light"
     },
     "output_type": "display_data"
    }
   ],
   "source": [
    "y_probas = rf_f.predict_proba(X_test)\n",
    "skplt.metrics.plot_lift_curve(y_test, y_probas)\n"
   ]
  },
  {
   "cell_type": "code",
   "execution_count": 33,
   "id": "7a55d8a5",
   "metadata": {},
   "outputs": [
    {
     "data": {
      "image/png": "[encoded data removed]",
      "text/plain": [
       "<Figure size 432x288 with 1 Axes>"
      ]
     },
     "metadata": {
      "needs_background": "light"
     },
     "output_type": "display_data"
    }
   ],
   "source": [
    "y_probas_1 = rf_f.predict_proba(X_test)[:,1]\n",
    "\n",
    "threshold = np.linspace(0, 1.0, num=21)\n",
    "cost = np.linspace(0, 1.0, num=21)\n",
    "\n",
    "cost_matrix = np.array([[0, 1], \n",
    "                        [10, 0]])\n",
    "index=0\n",
    "for t in threshold:\n",
    "   predict_thre = np.where(y_probas_1 > t, 1, 0) \n",
    "   clf_matrix = confusion_matrix(y_test, predict_thre)\n",
    "   cost[index] = clf_matrix[0][0]*cost_matrix[0][0]+clf_matrix[0][1]*cost_matrix[0][1]+clf_matrix[1][0]*cost_matrix[1][0]+clf_matrix[1][1]*cost_matrix[1][1]\n",
    "   index+=1\n",
    "plt.figure(1)\n",
    "plt.plot(threshold, cost, 'r--')\n",
    "plt.title('Threshold values vs Cost')\n",
    "plt.xlabel(\"thresholds\")\n",
    "plt.ylabel(\"Cost\")\n",
    "plt.show()"
   ]
  },
  {
   "cell_type": "markdown",
   "id": "3a7044e4",
   "metadata": {},
   "source": [
    "### Looking at the above chart, we can conclude that to get the lowest misclassfication cost, we should set the threshold value  ~0.18."
   ]
  },
  {
   "cell_type": "code",
   "execution_count": 42,
   "id": "36c0dbdc",
   "metadata": {},
   "outputs": [
    {
     "name": "stdout",
     "output_type": "stream",
     "text": [
      "171\n"
     ]
    }
   ],
   "source": [
    "predict_thre = np.where(y_probas_1 > 0.18, 1, 0) \n",
    "clf_matrix = confusion_matrix(y_test, predict_thre)\n",
    "cost_final = clf_matrix[0][0]*cost_matrix[0][0]+clf_matrix[0][1]*cost_matrix[0][1]+clf_matrix[1][0]*cost_matrix[1][0]+clf_matrix[1][1]*cost_matrix[1][1]\n",
    "print(cost_final)"
   ]
  },
  {
   "cell_type": "markdown",
   "id": "00500a40",
   "metadata": {},
   "source": [
    "## Final Conclusions "
   ]
  },
  {
   "cell_type": "markdown",
   "id": "604e8d23",
   "metadata": {},
   "source": [
    "#### After importing the data, I identified the label column by finding the number of unique values in each column. The label column was the only column with two unique values of 1 & 0 in it (binary classification problem).\n",
    "\n",
    "#### To measure the impact of normalization on the outcome of the model, I ran k-nn and logistic regression with and without normalization. In k-nn, there is a significant increase in the accuracy values when running without normalization (Accuracy: 0.78) vs when running with normalization (Accuracy: 0.88). For logistic, the accuracy increased but only slightly (0.90 to 0.91). Taking these both results in account, the rest of the models have been run with normalization (wherever needed) as it increases the accuracy value.\n",
    "\n",
    "\n",
    "#### Below are the accuracy values I got for all the various models which were run:\n",
    "\n",
    "####  k-nn: 0.88 (without class weights); 0.887 (with class weights)\n",
    "####  Decision tree: 0.90 (without class weights); 0.87 (with class weights)\n",
    "####  Logistic regression: 0.91 (without class weights); 0.80 (with class weights)\n",
    "####  SVM: 0.75 (without class weights) ; 0.63 (with class weights)\n",
    "####  Random Forest: 0.93 (without class weights); 0.889 (with class weights)\n",
    "####  Neural Networks: 0.87 (without class weights); 0.83 (with class weights)\n",
    "\n",
    "#### For task 1, the best model was Random Forest. The best parameters were found using grid search and cross validation. The best parameters found were {'max_depth': 10, 'min_samples_leaf': 1}. The performance was as below:\n",
    "#### Accuracy: 0.9381107491856677\n",
    "#### Recall for class 1 0.8871794871794871\n",
    "#### Recall for class 0 0.975517890772128\n",
    "#### Precision for class 1 0.9637883008356546\n",
    "#### Precision for class 0 0.9217081850533808\n",
    "#### F1 Score for class 1 0.9238985313751668\n",
    "#### F1 Score for class 0 0.9478499542543458\n",
    "\n",
    "#### For task 2, the best model was Random Forest. The best parameters were found using grid search and cross validation. The best parameters found were{'max_depth': 10, 'min_samples_leaf': 1}. The performance was as below:\n",
    "#### Accuracy: 0.8859934853420195\n",
    "\n",
    "#### Recall for class 1 0.7487179487179487\n",
    "#### Recall for class 0 0.9868173258003766\n",
    "#### Precision for class 1 0.9765886287625418\n",
    "#### Precision for class 0 0.842443729903537\n",
    "#### F1 Score for class 1 0.8476052249637155\n",
    "#### F1 Score for class 0 0.9089332176929747\n",
    "\n",
    "#### The misclassification cost for model 2 is 171 dollars.\n",
    "\n",
    "#### Comparison: We are getting better scores for task 1 as compared to task 2. This could be because our second model is overfitting due to the inclusion of class weights.\n",
    "\n",
    "#### Conclusion: Since the model seems to be overfitting in task 2, we can mitigate the problem by reducing the cost."
   ]
  }
 ],
 "metadata": {
  "kernelspec": {
   "display_name": "Python 3 (ipykernel)",
   "language": "python",
   "name": "python3"
  },
  "language_info": {
   "codemirror_mode": {
    "name": "ipython",
    "version": 3
   },
   "file_extension": ".py",
   "mimetype": "text/x-python",
   "name": "python",
   "nbconvert_exporter": "python",
   "pygments_lexer": "ipython3",
   "version": "3.8.8"
  }
 },
 "nbformat": 4,
 "nbformat_minor": 5
}
